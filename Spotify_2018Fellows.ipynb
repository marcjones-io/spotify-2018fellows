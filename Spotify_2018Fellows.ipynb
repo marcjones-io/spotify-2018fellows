{
 "cells": [
  {
   "cell_type": "markdown",
   "metadata": {},
   "source": [
    "# Spotify 2018 Fellows Technical Challenge"
   ]
  },
  {
   "cell_type": "markdown",
   "metadata": {},
   "source": [
    "### Question 1 -- sortByStrings(s,t): \n",
    "Sort the letters in the string s by the order they occur in the string t. You can assume t will not have repetitive characters. For s = \"weather\" and t = \"therapyw\", the output should be sortByString(s, t) = \"theeraw\". For s = \"good\" and t = \"odg\", the output should be sortByString(s, t) = \"oodg\"."
   ]
  },
  {
   "cell_type": "code",
   "execution_count": 133,
   "metadata": {},
   "outputs": [
    {
     "name": "stdout",
     "output_type": "stream",
     "text": [
      "theeraw\n",
      "oodg\n",
      "theera\n"
     ]
    }
   ],
   "source": [
    "# Question 1 -- sortByStrings(s,t)\n",
    "def sortByString(s,t):\n",
    "    sorted_string = ''\n",
    "    freq_chart = {}\n",
    "    for c in s: # make a frequency chart of each character\n",
    "        if c in freq_chart:\n",
    "            freq_chart[c] = freq_chart[c]+1\n",
    "        else:\n",
    "            freq_chart[c] = 1    \n",
    "    for c in t: # assemble new string from 't' & the frequency chart\n",
    "        if c in freq_chart:\n",
    "            for _ in range(freq_chart[c]):\n",
    "                sorted_string += c\n",
    "    return sorted_string # above algorithm runs in O(len(S)+len(T)) = O(N)\n",
    "\n",
    "# example 1\n",
    "print(sortByString('weather','therapyw'))\n",
    "# example 2\n",
    "print(sortByString('good','odg'))\n",
    "# unspecified edge case: if a character in string 'S' does not exist in 'T' it is not included\n",
    "print(sortByString('weather','therapy')) # no 'w'"
   ]
  },
  {
   "cell_type": "markdown",
   "metadata": {},
   "source": [
    "### Question 2 -- decodeString(s): \n",
    "Given an encoded string, return its corresponding decoded string. \n",
    "\n",
    "The encoding rule is: k[encoded_string], where the encoded_string inside the square brackets is repeated exactly k times. Note: k is guaranteed to be a positive integer. \n",
    "\n",
    "For s = \"4[ab]\", the output should be decodeString(s) = \"abababab\" \n",
    "For s = \"2[b3[a]]\", the output should be decodeString(s) = \"baaabaaa\""
   ]
  },
  {
   "cell_type": "code",
   "execution_count": 134,
   "metadata": {},
   "outputs": [
    {
     "name": "stdout",
     "output_type": "stream",
     "text": [
      "abababab\n",
      "baaabaaa\n",
      "baccaccacc\n"
     ]
    }
   ],
   "source": [
    "# Question 2 -- decodeString(s)\n",
    "def decodeString(s):\n",
    "    # alpha-numeric lookup tables and helper variables\n",
    "    numbers = {'0','1','2','3','4','5','6','7','8','9'}\n",
    "    decoded = ''\n",
    "    encoded = ''\n",
    "    k = ''\n",
    "    stack = [c for c in s]\n",
    "    \n",
    "    while(len(stack)>0):\n",
    "        c = stack.pop() # take the top of the stack\n",
    "        if c not in numbers and c != '[' and c != ']':\n",
    "            # put together encoded string\n",
    "            encoded = c + encoded\n",
    "            # find rest of the alpha chars in the encoded substring \n",
    "            i = len(stack)-1\n",
    "            while(i >= 0 and stack[i] not in numbers and stack[i] != '['):\n",
    "                encoded = stack.pop() + encoded\n",
    "                i -= 1  \n",
    "        elif c == '[':\n",
    "            # find the numeric chars to multiply encoded \n",
    "            i = len(stack)-1\n",
    "            while(i >= 0 and stack[i] in numbers):\n",
    "                k = stack.pop() + k\n",
    "                i -= 1       \n",
    "        if k != '':\n",
    "            # copy the encoded string k times\n",
    "            k = int(k)\n",
    "            if decoded == '': # decoding the inner most nested\n",
    "                while(k > 0):\n",
    "                    decoded = encoded + decoded # MAYBE USE SPACE AS INDICATOR TO ENTER NEXT STR ADDITION\n",
    "                    k -= 1\n",
    "            else: # decoded outer nested by multiplying the previous inner nested \n",
    "                tmp = []\n",
    "                for _ in range(k):\n",
    "                    tmp.append(encoded + decoded)\n",
    "                decoded = ''\n",
    "                for i in tmp:\n",
    "                    decoded += i\n",
    "            k = ''\n",
    "            encoded = ''    \n",
    "    return decoded # above algorithm O(len(S) + # of nested substrings) = O(N) \n",
    "     \n",
    "# example 1\n",
    "print(decodeString('4[ab]'))\n",
    "# example 2\n",
    "print(decodeString('2[b3[a]]'))\n",
    "# unspecified edge case: format of input string has a substring after a closing bracket the\n",
    "print(decodeString('1[b3[a]2[c]]')) # numerical value before the preceeding substring is applied \n",
    "                                    # instead to their combination, not the preceeding substring"
   ]
  },
  {
   "cell_type": "markdown",
   "metadata": {},
   "source": [
    "### Question 3 -- changePossibilities(amount,denom): \n",
    "Your quirky boss collects rare, old coins. They found out you're a programmer and asked you to solve something they've been wondering for a long time. \n",
    "\n",
    "Write a function that, given an amount of money and an array of coin denominations, computes the number of ways to make the amount of money with coins of the available denominations. \n",
    "\n",
    "Example: for amount=4 (4¢) and denominations=[1,2,3] (1¢, 2¢ and 3¢), your program would output 4—the number of ways to make 4¢ with those denominations: \n",
    "\n",
    "1¢, 1¢, 1¢, 1¢\n",
    "\n",
    "1¢, 1¢, 2¢\n",
    "\n",
    "1¢, 3¢\n",
    "\n",
    "2¢, 2¢"
   ]
  },
  {
   "cell_type": "code",
   "execution_count": 34,
   "metadata": {},
   "outputs": [
    {
     "name": "stdout",
     "output_type": "stream",
     "text": [
      "4\n",
      "4\n"
     ]
    }
   ],
   "source": [
    "# Question 3 -- changePossibilities(amount,denom)\n",
    "def changePossibilities(amount,denom):    \n",
    "    # using a dynamic programming approach by creating a table (of lengnth one size \n",
    "    # larger than the target amount) to hold possible coin combination values\n",
    "    counting_list = [1 if i == 0 else 0 for i in range(amount+1)]\n",
    "    \n",
    "    # iterate through list for each 'coin denomination'\n",
    "    for i in range(len(denom)):\n",
    "        # add all possibilities within the range of the 'coin denomination' \n",
    "        # value and the target value + 1\n",
    "        for k in range(denom[i],amount+1):\n",
    "            counting_list[k] += counting_list[k-denom[i]]\n",
    "            \n",
    "    # after adding up all the coin combinations the resulting number of \n",
    "    # possibilities is conveniently in the last element of the list\n",
    "    return counting_list[amount] # algorithm runs in O(len(denom) * amount+1) = O(N)\n",
    "\n",
    "    \n",
    "# example 1\n",
    "print(changePossibilities(4,[1,2,3]))\n",
    "\n",
    "# example with unsorted input\n",
    "print(changePossibilities(4,[3,1,2]))"
   ]
  }
 ],
 "metadata": {
  "kernelspec": {
   "display_name": "Python 3",
   "language": "python",
   "name": "python3"
  },
  "language_info": {
   "codemirror_mode": {
    "name": "ipython",
    "version": 3
   },
   "file_extension": ".py",
   "mimetype": "text/x-python",
   "name": "python",
   "nbconvert_exporter": "python",
   "pygments_lexer": "ipython3",
   "version": "3.6.5"
  }
 },
 "nbformat": 4,
 "nbformat_minor": 2
}
